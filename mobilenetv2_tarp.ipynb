{
  "cells": [
    {
      "cell_type": "code",
      "execution_count": null,
      "metadata": {
        "id": "t4rJMKwxvjLT"
      },
      "outputs": [],
      "source": [
        "from tensorflow.keras.layers import Conv2D,Flatten,Dense,MaxPool2D,GlobalAveragePooling2D\n",
        "from tensorflow.keras.applications.resnet50 import preprocess_input, decode_predictions\n",
        "from tensorflow.keras.applications.resnet_v2 import preprocess_input, decode_predictions\n",
        "from tensorflow.keras.preprocessing.image import ImageDataGenerator,load_img\n",
        "from tensorflow.keras.applications.resnet50 import ResNet50\n",
        "from tensorflow.keras.applications.mobilenet_v2 import MobileNetV2\n",
        "from tensorflow.keras.preprocessing import image\n",
        "from tensorflow.keras.models import Sequential\n",
        "from tensorflow.keras.models import Model\n",
        "import matplotlib.pyplot as plt\n",
        "from tensorflow import keras \n",
        "from sklearn import metrics\n",
        "from sklearn.metrics import roc_curve, auc\n",
        "import sklearn\n",
        "from sklearn.metrics import roc_auc_score\n",
        "from sklearn.tree import DecisionTreeClassifier\n",
        "from sklearn import tree\n",
        "import tensorflow as tf\n",
        "import pandas as pd\n",
        "import numpy as np\n",
        "import os\n",
        "import tensorflow"
      ]
    },
    {
      "cell_type": "code",
      "execution_count": null,
      "metadata": {
        "id": "MsbLZxngB-SF"
      },
      "outputs": [],
      "source": [
        ""
      ]
    },
    {
      "cell_type": "markdown",
      "metadata": {
        "id": "65EkSh00xrrs"
      },
      "source": [
        "EXTRACTION OF PRETRAINED NETWORK FROM KERAS\n"
      ]
    },
    {
      "cell_type": "code",
      "execution_count": null,
      "metadata": {
        "id": "csu2JXTkv2HF"
      },
      "outputs": [],
      "source": [
        "img_height, img_width = (224,224)\n",
        "batch_size = 32\n",
        "IMG_SHAPE = (img_height, img_width, 3)\n",
        "train_data_dir = r\"G:/TARP/train\"\n",
        "valid_data_dir = r\"G:/TARP/val\"\n",
        "test_data_dir = r\"G:/TARP/test\"\n",
        "#test_data_dir = r\"/content/drive/MyDrive/outputfolder/test\"\n",
        "#image.open()"
      ]
    },
    {
      "cell_type": "code",
      "execution_count": null,
      "metadata": {
        "colab": {
          "base_uri": "https://localhost:8080/"
        },
        "id": "wUp4rWgrv49r",
        "outputId": "8568414d-492b-4eba-ec80-42f43f13cae6"
      },
      "outputs": [
        {
          "name": "stdout",
          "output_type": "stream",
          "text": [
            "Found 2448 images belonging to 3 classes.\n",
            "Found 309 images belonging to 3 classes.\n"
          ]
        }
      ],
      "source": [
        "\n",
        "train_datagen = ImageDataGenerator(\n",
        "                                     shear_range=0.2,zoom_range=0.2,\n",
        "                                 horizontal_flip=True,\n",
        "                                   validation_split=0.4)\n",
        "                                   # rescale=1/255)\n",
        "\n",
        "train_generator = train_datagen.flow_from_directory(train_data_dir,\n",
        "                                                    target_size=(img_height, img_width),\n",
        "                                                    batch_size = batch_size, \n",
        "                                                      class_mode='categorical')\n",
        "                       \n",
        "                                       #   subset='training')# set as training data\n",
        "\n",
        "valid_generator = train_datagen.flow_from_directory(valid_data_dir,\n",
        "                                                    target_size=(img_height, img_width),\n",
        "                                                    batch_size = batch_size, \n",
        "                                                    class_mode='categorical')\n",
        "                                                    #subset='validation') #set as validation data  \n",
        "                                                                                                       "
      ]
    },
    {
      "cell_type": "code",
      "execution_count": null,
      "metadata": {
        "id": "giw_oJMrB-SI",
        "outputId": "d1f148b1-94cf-4726-f30a-69f7bc6d6172"
      },
      "outputs": [
        {
          "data": {
            "text/plain": [
              "{'Aug_overvol': 0, 'aug_normal': 1, 'non_overload_vehicles': 2}"
            ]
          },
          "execution_count": 5,
          "metadata": {},
          "output_type": "execute_result"
        }
      ],
      "source": [
        "train_generator.class_indices"
      ]
    },
    {
      "cell_type": "code",
      "execution_count": null,
      "metadata": {
        "id": "T89BxeJHB-SI",
        "outputId": "22a644df-c97f-4c71-97b8-c88a154f18f7"
      },
      "outputs": [
        {
          "data": {
            "text/plain": [
              "2448"
            ]
          },
          "execution_count": 6,
          "metadata": {},
          "output_type": "execute_result"
        }
      ],
      "source": [
        "y_train = train_generator.classes\n",
        "len(y_train)"
      ]
    },
    {
      "cell_type": "code",
      "execution_count": null,
      "metadata": {
        "id": "6MmduzRyzcfg"
      },
      "outputs": [],
      "source": [
        "nb_validation_samples = 309"
      ]
    },
    {
      "cell_type": "code",
      "execution_count": null,
      "metadata": {
        "colab": {
          "base_uri": "https://localhost:8080/"
        },
        "id": "5YngzGFaK_2b",
        "outputId": "046109a4-d1f3-4c12-a2b1-a421deaeba4e"
      },
      "outputs": [
        {
          "name": "stdout",
          "output_type": "stream",
          "text": [
            "[0 0 0 ... 2 2 2]\n"
          ]
        },
        {
          "data": {
            "text/plain": [
              "(2448,)"
            ]
          },
          "execution_count": 9,
          "metadata": {},
          "output_type": "execute_result"
        }
      ],
      "source": [
        "dir(train_generator)\n",
        "#type(train_generator.labels)\n",
        "print(train_generator.classes)\n",
        "#y_train = train_generator.classes\n",
        "y_train = train_generator.classes\n",
        "y_train.shape"
      ]
    },
    {
      "cell_type": "code",
      "execution_count": null,
      "metadata": {
        "colab": {
          "base_uri": "https://localhost:8080/"
        },
        "id": "OlH7y6Jlv75r",
        "outputId": "cdbd42a2-63f3-4aad-8814-c65ae013ea3a"
      },
      "outputs": [
        {
          "name": "stdout",
          "output_type": "stream",
          "text": [
            "Found 307 images belonging to 3 classes.\n"
          ]
        }
      ],
      "source": [
        "test_generator = train_datagen.flow_from_directory(test_data_dir,\n",
        "                                                    target_size=(img_height, img_width),\n",
        "                                   \n",
        "                                                   batch_size = 1, \n",
        "                                                    class_mode='categorical')\n",
        "                                                    #subset='validation') #set as testing data"
      ]
    },
    {
      "cell_type": "code",
      "execution_count": null,
      "metadata": {
        "colab": {
          "base_uri": "https://localhost:8080/"
        },
        "id": "9LH8g1p0v8sH",
        "outputId": "a2476232-4be4-4e8c-dfa9-22d7e4a1a0bc"
      },
      "outputs": [
        {
          "data": {
            "text/plain": [
              "(1, 224, 224, 3)"
            ]
          },
          "execution_count": 11,
          "metadata": {},
          "output_type": "execute_result"
        }
      ],
      "source": [
        "x,y = test_generator.next()\n",
        "x.shape\n",
        "#print(type(x))\n",
        "#x"
      ]
    },
    {
      "cell_type": "markdown",
      "metadata": {
        "id": "i3pf_ALNw9Ht"
      },
      "source": [
        "RESNET50\n",
        "ARCHITECTURE"
      ]
    },
    {
      "cell_type": "code",
      "execution_count": null,
      "metadata": {
        "id": "fmQSnbOswYOD",
        "outputId": "6719bd5c-ee8a-4eef-bf90-008825e1b229"
      },
      "outputs": [
        {
          "name": "stdout",
          "output_type": "stream",
          "text": [
            "WARNING:tensorflow:`input_shape` is undefined or non-square, or `rows` is not in [96, 128, 160, 192, 224]. Weights for input shape (224, 224) will be loaded as the default.\n",
            "Model: \"functional_1\"\n",
            "__________________________________________________________________________________________________\n",
            "Layer (type)                    Output Shape         Param #     Connected to                     \n",
            "==================================================================================================\n",
            "input_1 (InputLayer)            [(None, None, None,  0                                            \n",
            "__________________________________________________________________________________________________\n",
            "Conv1_pad (ZeroPadding2D)       (None, None, None, 3 0           input_1[0][0]                    \n",
            "__________________________________________________________________________________________________\n",
            "Conv1 (Conv2D)                  (None, None, None, 3 864         Conv1_pad[0][0]                  \n",
            "__________________________________________________________________________________________________\n",
            "bn_Conv1 (BatchNormalization)   (None, None, None, 3 128         Conv1[0][0]                      \n",
            "__________________________________________________________________________________________________\n",
            "Conv1_relu (ReLU)               (None, None, None, 3 0           bn_Conv1[0][0]                   \n",
            "__________________________________________________________________________________________________\n",
            "expanded_conv_depthwise (Depthw (None, None, None, 3 288         Conv1_relu[0][0]                 \n",
            "__________________________________________________________________________________________________\n",
            "expanded_conv_depthwise_BN (Bat (None, None, None, 3 128         expanded_conv_depthwise[0][0]    \n",
            "__________________________________________________________________________________________________\n",
            "expanded_conv_depthwise_relu (R (None, None, None, 3 0           expanded_conv_depthwise_BN[0][0] \n",
            "__________________________________________________________________________________________________\n",
            "expanded_conv_project (Conv2D)  (None, None, None, 1 512         expanded_conv_depthwise_relu[0][0\n",
            "__________________________________________________________________________________________________\n",
            "expanded_conv_project_BN (Batch (None, None, None, 1 64          expanded_conv_project[0][0]      \n",
            "__________________________________________________________________________________________________\n",
            "block_1_expand (Conv2D)         (None, None, None, 9 1536        expanded_conv_project_BN[0][0]   \n",
            "__________________________________________________________________________________________________\n",
            "block_1_expand_BN (BatchNormali (None, None, None, 9 384         block_1_expand[0][0]             \n",
            "__________________________________________________________________________________________________\n",
            "block_1_expand_relu (ReLU)      (None, None, None, 9 0           block_1_expand_BN[0][0]          \n",
            "__________________________________________________________________________________________________\n",
            "block_1_pad (ZeroPadding2D)     (None, None, None, 9 0           block_1_expand_relu[0][0]        \n",
            "__________________________________________________________________________________________________\n",
            "block_1_depthwise (DepthwiseCon (None, None, None, 9 864         block_1_pad[0][0]                \n",
            "__________________________________________________________________________________________________\n",
            "block_1_depthwise_BN (BatchNorm (None, None, None, 9 384         block_1_depthwise[0][0]          \n",
            "__________________________________________________________________________________________________\n",
            "block_1_depthwise_relu (ReLU)   (None, None, None, 9 0           block_1_depthwise_BN[0][0]       \n",
            "__________________________________________________________________________________________________\n",
            "block_1_project (Conv2D)        (None, None, None, 2 2304        block_1_depthwise_relu[0][0]     \n",
            "__________________________________________________________________________________________________\n",
            "block_1_project_BN (BatchNormal (None, None, None, 2 96          block_1_project[0][0]            \n",
            "__________________________________________________________________________________________________\n",
            "block_2_expand (Conv2D)         (None, None, None, 1 3456        block_1_project_BN[0][0]         \n",
            "__________________________________________________________________________________________________\n",
            "block_2_expand_BN (BatchNormali (None, None, None, 1 576         block_2_expand[0][0]             \n",
            "__________________________________________________________________________________________________\n",
            "block_2_expand_relu (ReLU)      (None, None, None, 1 0           block_2_expand_BN[0][0]          \n",
            "__________________________________________________________________________________________________\n",
            "block_2_depthwise (DepthwiseCon (None, None, None, 1 1296        block_2_expand_relu[0][0]        \n",
            "__________________________________________________________________________________________________\n",
            "block_2_depthwise_BN (BatchNorm (None, None, None, 1 576         block_2_depthwise[0][0]          \n",
            "__________________________________________________________________________________________________\n",
            "block_2_depthwise_relu (ReLU)   (None, None, None, 1 0           block_2_depthwise_BN[0][0]       \n",
            "__________________________________________________________________________________________________\n",
            "block_2_project (Conv2D)        (None, None, None, 2 3456        block_2_depthwise_relu[0][0]     \n",
            "__________________________________________________________________________________________________\n",
            "block_2_project_BN (BatchNormal (None, None, None, 2 96          block_2_project[0][0]            \n",
            "__________________________________________________________________________________________________\n",
            "block_2_add (Add)               (None, None, None, 2 0           block_1_project_BN[0][0]         \n",
            "                                                                 block_2_project_BN[0][0]         \n",
            "__________________________________________________________________________________________________\n",
            "block_3_expand (Conv2D)         (None, None, None, 1 3456        block_2_add[0][0]                \n",
            "__________________________________________________________________________________________________\n",
            "block_3_expand_BN (BatchNormali (None, None, None, 1 576         block_3_expand[0][0]             \n",
            "__________________________________________________________________________________________________\n",
            "block_3_expand_relu (ReLU)      (None, None, None, 1 0           block_3_expand_BN[0][0]          \n",
            "__________________________________________________________________________________________________\n",
            "block_3_pad (ZeroPadding2D)     (None, None, None, 1 0           block_3_expand_relu[0][0]        \n",
            "__________________________________________________________________________________________________\n",
            "block_3_depthwise (DepthwiseCon (None, None, None, 1 1296        block_3_pad[0][0]                \n",
            "__________________________________________________________________________________________________\n",
            "block_3_depthwise_BN (BatchNorm (None, None, None, 1 576         block_3_depthwise[0][0]          \n",
            "__________________________________________________________________________________________________\n",
            "block_3_depthwise_relu (ReLU)   (None, None, None, 1 0           block_3_depthwise_BN[0][0]       \n",
            "__________________________________________________________________________________________________\n",
            "block_3_project (Conv2D)        (None, None, None, 3 4608        block_3_depthwise_relu[0][0]     \n",
            "__________________________________________________________________________________________________\n",
            "block_3_project_BN (BatchNormal (None, None, None, 3 128         block_3_project[0][0]            \n",
            "__________________________________________________________________________________________________\n",
            "block_4_expand (Conv2D)         (None, None, None, 1 6144        block_3_project_BN[0][0]         \n",
            "__________________________________________________________________________________________________\n",
            "block_4_expand_BN (BatchNormali (None, None, None, 1 768         block_4_expand[0][0]             \n",
            "__________________________________________________________________________________________________\n",
            "block_4_expand_relu (ReLU)      (None, None, None, 1 0           block_4_expand_BN[0][0]          \n",
            "__________________________________________________________________________________________________\n",
            "block_4_depthwise (DepthwiseCon (None, None, None, 1 1728        block_4_expand_relu[0][0]        \n",
            "__________________________________________________________________________________________________\n",
            "block_4_depthwise_BN (BatchNorm (None, None, None, 1 768         block_4_depthwise[0][0]          \n",
            "__________________________________________________________________________________________________\n",
            "block_4_depthwise_relu (ReLU)   (None, None, None, 1 0           block_4_depthwise_BN[0][0]       \n",
            "__________________________________________________________________________________________________\n",
            "block_4_project (Conv2D)        (None, None, None, 3 6144        block_4_depthwise_relu[0][0]     \n",
            "__________________________________________________________________________________________________\n",
            "block_4_project_BN (BatchNormal (None, None, None, 3 128         block_4_project[0][0]            \n",
            "__________________________________________________________________________________________________\n",
            "block_4_add (Add)               (None, None, None, 3 0           block_3_project_BN[0][0]         \n",
            "                                                                 block_4_project_BN[0][0]         \n",
            "__________________________________________________________________________________________________\n",
            "block_5_expand (Conv2D)         (None, None, None, 1 6144        block_4_add[0][0]                \n",
            "__________________________________________________________________________________________________\n",
            "block_5_expand_BN (BatchNormali (None, None, None, 1 768         block_5_expand[0][0]             \n",
            "__________________________________________________________________________________________________\n",
            "block_5_expand_relu (ReLU)      (None, None, None, 1 0           block_5_expand_BN[0][0]          \n",
            "__________________________________________________________________________________________________\n",
            "block_5_depthwise (DepthwiseCon (None, None, None, 1 1728        block_5_expand_relu[0][0]        \n",
            "__________________________________________________________________________________________________\n",
            "block_5_depthwise_BN (BatchNorm (None, None, None, 1 768         block_5_depthwise[0][0]          \n",
            "__________________________________________________________________________________________________\n",
            "block_5_depthwise_relu (ReLU)   (None, None, None, 1 0           block_5_depthwise_BN[0][0]       \n",
            "__________________________________________________________________________________________________\n",
            "block_5_project (Conv2D)        (None, None, None, 3 6144        block_5_depthwise_relu[0][0]     \n",
            "__________________________________________________________________________________________________\n",
            "block_5_project_BN (BatchNormal (None, None, None, 3 128         block_5_project[0][0]            \n",
            "__________________________________________________________________________________________________\n",
            "block_5_add (Add)               (None, None, None, 3 0           block_4_add[0][0]                \n",
            "                                                                 block_5_project_BN[0][0]         \n",
            "__________________________________________________________________________________________________\n",
            "block_6_expand (Conv2D)         (None, None, None, 1 6144        block_5_add[0][0]                \n",
            "__________________________________________________________________________________________________\n",
            "block_6_expand_BN (BatchNormali (None, None, None, 1 768         block_6_expand[0][0]             \n",
            "__________________________________________________________________________________________________\n",
            "block_6_expand_relu (ReLU)      (None, None, None, 1 0           block_6_expand_BN[0][0]          \n",
            "__________________________________________________________________________________________________\n",
            "block_6_pad (ZeroPadding2D)     (None, None, None, 1 0           block_6_expand_relu[0][0]        \n",
            "__________________________________________________________________________________________________\n",
            "block_6_depthwise (DepthwiseCon (None, None, None, 1 1728        block_6_pad[0][0]                \n",
            "__________________________________________________________________________________________________\n",
            "block_6_depthwise_BN (BatchNorm (None, None, None, 1 768         block_6_depthwise[0][0]          \n",
            "__________________________________________________________________________________________________\n",
            "block_6_depthwise_relu (ReLU)   (None, None, None, 1 0           block_6_depthwise_BN[0][0]       \n",
            "__________________________________________________________________________________________________\n",
            "block_6_project (Conv2D)        (None, None, None, 6 12288       block_6_depthwise_relu[0][0]     \n",
            "__________________________________________________________________________________________________\n",
            "block_6_project_BN (BatchNormal (None, None, None, 6 256         block_6_project[0][0]            \n",
            "__________________________________________________________________________________________________\n",
            "block_7_expand (Conv2D)         (None, None, None, 3 24576       block_6_project_BN[0][0]         \n",
            "__________________________________________________________________________________________________\n",
            "block_7_expand_BN (BatchNormali (None, None, None, 3 1536        block_7_expand[0][0]             \n",
            "__________________________________________________________________________________________________\n",
            "block_7_expand_relu (ReLU)      (None, None, None, 3 0           block_7_expand_BN[0][0]          \n",
            "__________________________________________________________________________________________________\n",
            "block_7_depthwise (DepthwiseCon (None, None, None, 3 3456        block_7_expand_relu[0][0]        \n",
            "__________________________________________________________________________________________________\n",
            "block_7_depthwise_BN (BatchNorm (None, None, None, 3 1536        block_7_depthwise[0][0]          \n",
            "__________________________________________________________________________________________________\n",
            "block_7_depthwise_relu (ReLU)   (None, None, None, 3 0           block_7_depthwise_BN[0][0]       \n",
            "__________________________________________________________________________________________________\n",
            "block_7_project (Conv2D)        (None, None, None, 6 24576       block_7_depthwise_relu[0][0]     \n",
            "__________________________________________________________________________________________________\n",
            "block_7_project_BN (BatchNormal (None, None, None, 6 256         block_7_project[0][0]            \n",
            "__________________________________________________________________________________________________\n",
            "block_7_add (Add)               (None, None, None, 6 0           block_6_project_BN[0][0]         \n",
            "                                                                 block_7_project_BN[0][0]         \n",
            "__________________________________________________________________________________________________\n",
            "block_8_expand (Conv2D)         (None, None, None, 3 24576       block_7_add[0][0]                \n",
            "__________________________________________________________________________________________________\n",
            "block_8_expand_BN (BatchNormali (None, None, None, 3 1536        block_8_expand[0][0]             \n",
            "__________________________________________________________________________________________________\n",
            "block_8_expand_relu (ReLU)      (None, None, None, 3 0           block_8_expand_BN[0][0]          \n",
            "__________________________________________________________________________________________________\n",
            "block_8_depthwise (DepthwiseCon (None, None, None, 3 3456        block_8_expand_relu[0][0]        \n",
            "__________________________________________________________________________________________________\n",
            "block_8_depthwise_BN (BatchNorm (None, None, None, 3 1536        block_8_depthwise[0][0]          \n",
            "__________________________________________________________________________________________________\n",
            "block_8_depthwise_relu (ReLU)   (None, None, None, 3 0           block_8_depthwise_BN[0][0]       \n",
            "__________________________________________________________________________________________________\n",
            "block_8_project (Conv2D)        (None, None, None, 6 24576       block_8_depthwise_relu[0][0]     \n",
            "__________________________________________________________________________________________________\n",
            "block_8_project_BN (BatchNormal (None, None, None, 6 256         block_8_project[0][0]            \n",
            "__________________________________________________________________________________________________\n",
            "block_8_add (Add)               (None, None, None, 6 0           block_7_add[0][0]                \n",
            "                                                                 block_8_project_BN[0][0]         \n",
            "__________________________________________________________________________________________________\n",
            "block_9_expand (Conv2D)         (None, None, None, 3 24576       block_8_add[0][0]                \n",
            "__________________________________________________________________________________________________\n",
            "block_9_expand_BN (BatchNormali (None, None, None, 3 1536        block_9_expand[0][0]             \n",
            "__________________________________________________________________________________________________\n",
            "block_9_expand_relu (ReLU)      (None, None, None, 3 0           block_9_expand_BN[0][0]          \n",
            "__________________________________________________________________________________________________\n",
            "block_9_depthwise (DepthwiseCon (None, None, None, 3 3456        block_9_expand_relu[0][0]        \n",
            "__________________________________________________________________________________________________\n",
            "block_9_depthwise_BN (BatchNorm (None, None, None, 3 1536        block_9_depthwise[0][0]          \n",
            "__________________________________________________________________________________________________\n",
            "block_9_depthwise_relu (ReLU)   (None, None, None, 3 0           block_9_depthwise_BN[0][0]       \n",
            "__________________________________________________________________________________________________\n",
            "block_9_project (Conv2D)        (None, None, None, 6 24576       block_9_depthwise_relu[0][0]     \n",
            "__________________________________________________________________________________________________\n",
            "block_9_project_BN (BatchNormal (None, None, None, 6 256         block_9_project[0][0]            \n",
            "__________________________________________________________________________________________________\n",
            "block_9_add (Add)               (None, None, None, 6 0           block_8_add[0][0]                \n",
            "                                                                 block_9_project_BN[0][0]         \n",
            "__________________________________________________________________________________________________\n",
            "block_10_expand (Conv2D)        (None, None, None, 3 24576       block_9_add[0][0]                \n",
            "__________________________________________________________________________________________________\n",
            "block_10_expand_BN (BatchNormal (None, None, None, 3 1536        block_10_expand[0][0]            \n",
            "__________________________________________________________________________________________________\n",
            "block_10_expand_relu (ReLU)     (None, None, None, 3 0           block_10_expand_BN[0][0]         \n",
            "__________________________________________________________________________________________________\n",
            "block_10_depthwise (DepthwiseCo (None, None, None, 3 3456        block_10_expand_relu[0][0]       \n",
            "__________________________________________________________________________________________________\n",
            "block_10_depthwise_BN (BatchNor (None, None, None, 3 1536        block_10_depthwise[0][0]         \n",
            "__________________________________________________________________________________________________\n",
            "block_10_depthwise_relu (ReLU)  (None, None, None, 3 0           block_10_depthwise_BN[0][0]      \n",
            "__________________________________________________________________________________________________\n",
            "block_10_project (Conv2D)       (None, None, None, 9 36864       block_10_depthwise_relu[0][0]    \n",
            "__________________________________________________________________________________________________\n",
            "block_10_project_BN (BatchNorma (None, None, None, 9 384         block_10_project[0][0]           \n",
            "__________________________________________________________________________________________________\n",
            "block_11_expand (Conv2D)        (None, None, None, 5 55296       block_10_project_BN[0][0]        \n",
            "__________________________________________________________________________________________________\n",
            "block_11_expand_BN (BatchNormal (None, None, None, 5 2304        block_11_expand[0][0]            \n",
            "__________________________________________________________________________________________________\n",
            "block_11_expand_relu (ReLU)     (None, None, None, 5 0           block_11_expand_BN[0][0]         \n",
            "__________________________________________________________________________________________________\n",
            "block_11_depthwise (DepthwiseCo (None, None, None, 5 5184        block_11_expand_relu[0][0]       \n",
            "__________________________________________________________________________________________________\n",
            "block_11_depthwise_BN (BatchNor (None, None, None, 5 2304        block_11_depthwise[0][0]         \n",
            "__________________________________________________________________________________________________\n",
            "block_11_depthwise_relu (ReLU)  (None, None, None, 5 0           block_11_depthwise_BN[0][0]      \n",
            "__________________________________________________________________________________________________\n",
            "block_11_project (Conv2D)       (None, None, None, 9 55296       block_11_depthwise_relu[0][0]    \n",
            "__________________________________________________________________________________________________\n",
            "block_11_project_BN (BatchNorma (None, None, None, 9 384         block_11_project[0][0]           \n",
            "__________________________________________________________________________________________________\n",
            "block_11_add (Add)              (None, None, None, 9 0           block_10_project_BN[0][0]        \n",
            "                                                                 block_11_project_BN[0][0]        \n",
            "__________________________________________________________________________________________________\n",
            "block_12_expand (Conv2D)        (None, None, None, 5 55296       block_11_add[0][0]               \n",
            "__________________________________________________________________________________________________\n",
            "block_12_expand_BN (BatchNormal (None, None, None, 5 2304        block_12_expand[0][0]            \n",
            "__________________________________________________________________________________________________\n",
            "block_12_expand_relu (ReLU)     (None, None, None, 5 0           block_12_expand_BN[0][0]         \n",
            "__________________________________________________________________________________________________\n",
            "block_12_depthwise (DepthwiseCo (None, None, None, 5 5184        block_12_expand_relu[0][0]       \n",
            "__________________________________________________________________________________________________\n",
            "block_12_depthwise_BN (BatchNor (None, None, None, 5 2304        block_12_depthwise[0][0]         \n",
            "__________________________________________________________________________________________________\n",
            "block_12_depthwise_relu (ReLU)  (None, None, None, 5 0           block_12_depthwise_BN[0][0]      \n",
            "__________________________________________________________________________________________________\n",
            "block_12_project (Conv2D)       (None, None, None, 9 55296       block_12_depthwise_relu[0][0]    \n",
            "__________________________________________________________________________________________________\n",
            "block_12_project_BN (BatchNorma (None, None, None, 9 384         block_12_project[0][0]           \n",
            "__________________________________________________________________________________________________\n",
            "block_12_add (Add)              (None, None, None, 9 0           block_11_add[0][0]               \n",
            "                                                                 block_12_project_BN[0][0]        \n",
            "__________________________________________________________________________________________________\n",
            "block_13_expand (Conv2D)        (None, None, None, 5 55296       block_12_add[0][0]               \n",
            "__________________________________________________________________________________________________\n",
            "block_13_expand_BN (BatchNormal (None, None, None, 5 2304        block_13_expand[0][0]            \n",
            "__________________________________________________________________________________________________\n",
            "block_13_expand_relu (ReLU)     (None, None, None, 5 0           block_13_expand_BN[0][0]         \n",
            "__________________________________________________________________________________________________\n",
            "block_13_pad (ZeroPadding2D)    (None, None, None, 5 0           block_13_expand_relu[0][0]       \n",
            "__________________________________________________________________________________________________\n",
            "block_13_depthwise (DepthwiseCo (None, None, None, 5 5184        block_13_pad[0][0]               \n",
            "__________________________________________________________________________________________________\n",
            "block_13_depthwise_BN (BatchNor (None, None, None, 5 2304        block_13_depthwise[0][0]         \n",
            "__________________________________________________________________________________________________\n",
            "block_13_depthwise_relu (ReLU)  (None, None, None, 5 0           block_13_depthwise_BN[0][0]      \n",
            "__________________________________________________________________________________________________\n",
            "block_13_project (Conv2D)       (None, None, None, 1 92160       block_13_depthwise_relu[0][0]    \n",
            "__________________________________________________________________________________________________\n",
            "block_13_project_BN (BatchNorma (None, None, None, 1 640         block_13_project[0][0]           \n",
            "__________________________________________________________________________________________________\n",
            "block_14_expand (Conv2D)        (None, None, None, 9 153600      block_13_project_BN[0][0]        \n",
            "__________________________________________________________________________________________________\n",
            "block_14_expand_BN (BatchNormal (None, None, None, 9 3840        block_14_expand[0][0]            \n",
            "__________________________________________________________________________________________________\n",
            "block_14_expand_relu (ReLU)     (None, None, None, 9 0           block_14_expand_BN[0][0]         \n",
            "__________________________________________________________________________________________________\n",
            "block_14_depthwise (DepthwiseCo (None, None, None, 9 8640        block_14_expand_relu[0][0]       \n",
            "__________________________________________________________________________________________________\n",
            "block_14_depthwise_BN (BatchNor (None, None, None, 9 3840        block_14_depthwise[0][0]         \n",
            "__________________________________________________________________________________________________\n",
            "block_14_depthwise_relu (ReLU)  (None, None, None, 9 0           block_14_depthwise_BN[0][0]      \n",
            "__________________________________________________________________________________________________\n",
            "block_14_project (Conv2D)       (None, None, None, 1 153600      block_14_depthwise_relu[0][0]    \n",
            "__________________________________________________________________________________________________\n",
            "block_14_project_BN (BatchNorma (None, None, None, 1 640         block_14_project[0][0]           \n",
            "__________________________________________________________________________________________________\n",
            "block_14_add (Add)              (None, None, None, 1 0           block_13_project_BN[0][0]        \n",
            "                                                                 block_14_project_BN[0][0]        \n",
            "__________________________________________________________________________________________________\n",
            "block_15_expand (Conv2D)        (None, None, None, 9 153600      block_14_add[0][0]               \n",
            "__________________________________________________________________________________________________\n",
            "block_15_expand_BN (BatchNormal (None, None, None, 9 3840        block_15_expand[0][0]            \n",
            "__________________________________________________________________________________________________\n",
            "block_15_expand_relu (ReLU)     (None, None, None, 9 0           block_15_expand_BN[0][0]         \n",
            "__________________________________________________________________________________________________\n",
            "block_15_depthwise (DepthwiseCo (None, None, None, 9 8640        block_15_expand_relu[0][0]       \n",
            "__________________________________________________________________________________________________\n",
            "block_15_depthwise_BN (BatchNor (None, None, None, 9 3840        block_15_depthwise[0][0]         \n",
            "__________________________________________________________________________________________________\n",
            "block_15_depthwise_relu (ReLU)  (None, None, None, 9 0           block_15_depthwise_BN[0][0]      \n",
            "__________________________________________________________________________________________________\n",
            "block_15_project (Conv2D)       (None, None, None, 1 153600      block_15_depthwise_relu[0][0]    \n",
            "__________________________________________________________________________________________________\n",
            "block_15_project_BN (BatchNorma (None, None, None, 1 640         block_15_project[0][0]           \n",
            "__________________________________________________________________________________________________\n",
            "block_15_add (Add)              (None, None, None, 1 0           block_14_add[0][0]               \n",
            "                                                                 block_15_project_BN[0][0]        \n",
            "__________________________________________________________________________________________________\n",
            "block_16_expand (Conv2D)        (None, None, None, 9 153600      block_15_add[0][0]               \n",
            "__________________________________________________________________________________________________\n",
            "block_16_expand_BN (BatchNormal (None, None, None, 9 3840        block_16_expand[0][0]            \n",
            "__________________________________________________________________________________________________\n",
            "block_16_expand_relu (ReLU)     (None, None, None, 9 0           block_16_expand_BN[0][0]         \n",
            "__________________________________________________________________________________________________\n",
            "block_16_depthwise (DepthwiseCo (None, None, None, 9 8640        block_16_expand_relu[0][0]       \n",
            "__________________________________________________________________________________________________\n",
            "block_16_depthwise_BN (BatchNor (None, None, None, 9 3840        block_16_depthwise[0][0]         \n",
            "__________________________________________________________________________________________________\n",
            "block_16_depthwise_relu (ReLU)  (None, None, None, 9 0           block_16_depthwise_BN[0][0]      \n",
            "__________________________________________________________________________________________________\n",
            "block_16_project (Conv2D)       (None, None, None, 3 307200      block_16_depthwise_relu[0][0]    \n",
            "__________________________________________________________________________________________________\n",
            "block_16_project_BN (BatchNorma (None, None, None, 3 1280        block_16_project[0][0]           \n",
            "__________________________________________________________________________________________________\n",
            "Conv_1 (Conv2D)                 (None, None, None, 1 409600      block_16_project_BN[0][0]        \n",
            "__________________________________________________________________________________________________\n",
            "Conv_1_bn (BatchNormalization)  (None, None, None, 1 5120        Conv_1[0][0]                     \n",
            "__________________________________________________________________________________________________\n",
            "out_relu (ReLU)                 (None, None, None, 1 0           Conv_1_bn[0][0]                  \n",
            "__________________________________________________________________________________________________\n",
            "global_average_pooling2d (Globa (None, 1280)         0           out_relu[0][0]                   \n",
            "__________________________________________________________________________________________________\n",
            "dense (Dense)                   (None, 1024)         1311744     global_average_pooling2d[0][0]   \n",
            "__________________________________________________________________________________________________\n",
            "dense_1 (Dense)                 (None, 3)            3075        dense[0][0]                      \n",
            "==================================================================================================\n",
            "Total params: 3,572,803\n",
            "Trainable params: 1,314,819\n",
            "Non-trainable params: 2,257,984\n",
            "__________________________________________________________________________________________________\n"
          ]
        }
      ],
      "source": [
        "def create_model():\n",
        "\n",
        "  base_model_3 = MobileNetV2(include_top = False, weights='imagenet',input_shape = IMG_SHAPE)\n",
        " \n",
        " #the top layer is false coz we want to classify our own classes\n",
        "#we use weights from imagenet(pre-trained weights) to classify our model\n",
        "  x = base_model_3.output\n",
        "#taking the top layer of Resnet50 and connecting with dense layers\n",
        "  x = GlobalAveragePooling2D()(x)\n",
        "\n",
        "  x = Dense(1024, activation='relu')(x)\n",
        "  predictions = Dense(train_generator.num_classes, activation='softmax')(x)\n",
        "  model = Model(inputs=base_model_3.input, outputs=predictions)\n",
        "\n",
        "  for layer in base_model_3.layers:\n",
        "    layer.trainable = False\n",
        "    \n",
        "  opt = keras.optimizers.Adam(learning_rate=0.0001)#learning rate as 0.01\n",
        "  model.compile(loss='categorical_crossentropy', optimizer=opt,\n",
        "               metrics = ['accuracy','mse'])\n",
        "\n",
        "  #model.compile(optimizer='adam', loss='categorical_crossentropy', \n",
        "            #   metrics = ['accuracy','mse'])\n",
        " # model.fit(train_generator, epochs = 10)\n",
        "  return model\n",
        "\n",
        "model = create_model()\n",
        "model.summary()\n",
        "\n",
        "#plot_model(model, show_layer_names=True, show_shapes =True, to_file='model.png', dpi=350)"
      ]
    },
    {
      "cell_type": "code",
      "execution_count": null,
      "metadata": {
        "colab": {
          "base_uri": "https://localhost:8080/"
        },
        "id": "1N9LKP3RIqqr",
        "outputId": "a334e2b8-60e7-4b35-eaea-2846c577436e"
      },
      "outputs": [
        {
          "name": "stdout",
          "output_type": "stream",
          "text": [
            "Epoch 1/30\n",
            "77/77 [==============================] - ETA: 0s - loss: 0.6930 - accuracy: 0.7149 - mse: 0.1336\n",
            "Epoch 00001: val_accuracy improved from -inf to 0.85069, saving model to G:/TARP/Resnet\\cp-0021.ckpt.data-00000-of-00001\n",
            "77/77 [==============================] - 412s 5s/step - loss: 0.6930 - accuracy: 0.7149 - mse: 0.1336 - val_loss: 0.4651 - val_accuracy: 0.8507 - val_mse: 0.0862\n",
            "Epoch 2/30\n",
            "77/77 [==============================] - ETA: 0s - loss: 0.4201 - accuracy: 0.8599 - mse: 0.0758\n",
            "Epoch 00002: val_accuracy improved from 0.85069 to 0.88542, saving model to G:/TARP/Resnet\\cp-0021.ckpt.data-00000-of-00001\n",
            "77/77 [==============================] - 281s 4s/step - loss: 0.4201 - accuracy: 0.8599 - mse: 0.0758 - val_loss: 0.3758 - val_accuracy: 0.8854 - val_mse: 0.0652\n",
            "Epoch 3/30\n",
            "77/77 [==============================] - ETA: 0s - loss: 0.3549 - accuracy: 0.8779 - mse: 0.0641\n",
            "Epoch 00003: val_accuracy did not improve from 0.88542\n",
            "77/77 [==============================] - 270s 4s/step - loss: 0.3549 - accuracy: 0.8779 - mse: 0.0641 - val_loss: 0.3398 - val_accuracy: 0.8785 - val_mse: 0.0608\n",
            "Epoch 4/30\n",
            "77/77 [==============================] - ETA: 0s - loss: 0.3259 - accuracy: 0.8938 - mse: 0.0577\n",
            "Epoch 00004: val_accuracy did not improve from 0.88542\n",
            "77/77 [==============================] - 266s 3s/step - loss: 0.3259 - accuracy: 0.8938 - mse: 0.0577 - val_loss: 0.3991 - val_accuracy: 0.8681 - val_mse: 0.0739\n",
            "Epoch 5/30\n",
            "77/77 [==============================] - ETA: 0s - loss: 0.2922 - accuracy: 0.8942 - mse: 0.0528\n",
            "Epoch 00005: val_accuracy did not improve from 0.88542\n",
            "77/77 [==============================] - 267s 3s/step - loss: 0.2922 - accuracy: 0.8942 - mse: 0.0528 - val_loss: 0.3199 - val_accuracy: 0.8611 - val_mse: 0.0583\n",
            "Epoch 6/30\n",
            "77/77 [==============================] - ETA: 0s - loss: 0.2916 - accuracy: 0.8979 - mse: 0.0520\n",
            "Epoch 00006: val_accuracy improved from 0.88542 to 0.92361, saving model to G:/TARP/Resnet\\cp-0021.ckpt.data-00000-of-00001\n",
            "77/77 [==============================] - 268s 3s/step - loss: 0.2916 - accuracy: 0.8979 - mse: 0.0520 - val_loss: 0.2822 - val_accuracy: 0.9236 - val_mse: 0.0471\n",
            "Epoch 7/30\n",
            "77/77 [==============================] - ETA: 0s - loss: 0.2820 - accuracy: 0.9028 - mse: 0.0507\n",
            "Epoch 00007: val_accuracy did not improve from 0.92361\n",
            "77/77 [==============================] - 265s 3s/step - loss: 0.2820 - accuracy: 0.9028 - mse: 0.0507 - val_loss: 0.3331 - val_accuracy: 0.8889 - val_mse: 0.0577\n",
            "Epoch 8/30\n",
            "77/77 [==============================] - ETA: 0s - loss: 0.2732 - accuracy: 0.9052 - mse: 0.0489\n",
            "Epoch 00008: val_accuracy did not improve from 0.92361\n",
            "77/77 [==============================] - 266s 3s/step - loss: 0.2732 - accuracy: 0.9052 - mse: 0.0489 - val_loss: 0.3198 - val_accuracy: 0.8785 - val_mse: 0.0563\n",
            "Epoch 9/30\n",
            "77/77 [==============================] - ETA: 0s - loss: 0.2649 - accuracy: 0.9154 - mse: 0.0462\n",
            "Epoch 00009: val_accuracy did not improve from 0.92361\n",
            "77/77 [==============================] - 267s 3s/step - loss: 0.2649 - accuracy: 0.9154 - mse: 0.0462 - val_loss: 0.3071 - val_accuracy: 0.9028 - val_mse: 0.0548\n",
            "Epoch 10/30\n",
            "77/77 [==============================] - ETA: 0s - loss: 0.2647 - accuracy: 0.9130 - mse: 0.0470\n",
            "Epoch 00010: val_accuracy did not improve from 0.92361\n",
            "77/77 [==============================] - 267s 3s/step - loss: 0.2647 - accuracy: 0.9130 - mse: 0.0470 - val_loss: 0.2747 - val_accuracy: 0.9062 - val_mse: 0.0479\n",
            "Epoch 11/30\n",
            "77/77 [==============================] - ETA: 0s - loss: 0.2690 - accuracy: 0.9114 - mse: 0.0476\n",
            "Epoch 00011: val_accuracy did not improve from 0.92361\n",
            "77/77 [==============================] - 267s 3s/step - loss: 0.2690 - accuracy: 0.9114 - mse: 0.0476 - val_loss: 0.3124 - val_accuracy: 0.8993 - val_mse: 0.0571\n",
            "Epoch 12/30\n",
            "77/77 [==============================] - ETA: 0s - loss: 0.2589 - accuracy: 0.9175 - mse: 0.0457\n",
            "Epoch 00012: val_accuracy did not improve from 0.92361\n",
            "77/77 [==============================] - 280s 4s/step - loss: 0.2589 - accuracy: 0.9175 - mse: 0.0457 - val_loss: 0.3272 - val_accuracy: 0.8958 - val_mse: 0.0570\n",
            "Epoch 13/30\n",
            "77/77 [==============================] - ETA: 0s - loss: 0.2525 - accuracy: 0.9126 - mse: 0.0447\n",
            "Epoch 00013: val_accuracy did not improve from 0.92361\n",
            "77/77 [==============================] - 273s 4s/step - loss: 0.2525 - accuracy: 0.9126 - mse: 0.0447 - val_loss: 0.2912 - val_accuracy: 0.8958 - val_mse: 0.0527\n",
            "Epoch 14/30\n",
            "77/77 [==============================] - ETA: 0s - loss: 0.2551 - accuracy: 0.9130 - mse: 0.0451\n",
            "Epoch 00014: val_accuracy did not improve from 0.92361\n",
            "77/77 [==============================] - 266s 3s/step - loss: 0.2551 - accuracy: 0.9130 - mse: 0.0451 - val_loss: 0.3086 - val_accuracy: 0.8993 - val_mse: 0.0542\n",
            "Epoch 15/30\n",
            "77/77 [==============================] - ETA: 0s - loss: 0.2484 - accuracy: 0.9212 - mse: 0.0436\n",
            "Epoch 00015: val_accuracy did not improve from 0.92361\n",
            "77/77 [==============================] - 268s 3s/step - loss: 0.2484 - accuracy: 0.9212 - mse: 0.0436 - val_loss: 0.3139 - val_accuracy: 0.8924 - val_mse: 0.0554\n",
            "Epoch 16/30\n",
            "77/77 [==============================] - ETA: 0s - loss: 0.2469 - accuracy: 0.9203 - mse: 0.0428\n",
            "Epoch 00016: val_accuracy did not improve from 0.92361\n",
            "77/77 [==============================] - 273s 4s/step - loss: 0.2469 - accuracy: 0.9203 - mse: 0.0428 - val_loss: 0.2669 - val_accuracy: 0.9028 - val_mse: 0.0458\n",
            "Epoch 17/30\n",
            "77/77 [==============================] - ETA: 0s - loss: 0.2537 - accuracy: 0.9163 - mse: 0.0450\n",
            "Epoch 00017: val_accuracy did not improve from 0.92361\n",
            "77/77 [==============================] - 268s 3s/step - loss: 0.2537 - accuracy: 0.9163 - mse: 0.0450 - val_loss: 0.2987 - val_accuracy: 0.8819 - val_mse: 0.0547\n",
            "Epoch 18/30\n",
            "77/77 [==============================] - ETA: 0s - loss: 0.2422 - accuracy: 0.9216 - mse: 0.0422\n",
            "Epoch 00018: val_accuracy did not improve from 0.92361\n",
            "77/77 [==============================] - 264s 3s/step - loss: 0.2422 - accuracy: 0.9216 - mse: 0.0422 - val_loss: 0.3055 - val_accuracy: 0.8785 - val_mse: 0.0564\n",
            "Epoch 19/30\n",
            "77/77 [==============================] - ETA: 0s - loss: 0.2485 - accuracy: 0.9122 - mse: 0.0442\n",
            "Epoch 00019: val_accuracy did not improve from 0.92361\n",
            "77/77 [==============================] - 264s 3s/step - loss: 0.2485 - accuracy: 0.9122 - mse: 0.0442 - val_loss: 0.2609 - val_accuracy: 0.9132 - val_mse: 0.0457\n",
            "Epoch 20/30\n",
            "77/77 [==============================] - ETA: 0s - loss: 0.2450 - accuracy: 0.9208 - mse: 0.0430\n",
            "Epoch 00020: val_accuracy did not improve from 0.92361\n",
            "77/77 [==============================] - 264s 3s/step - loss: 0.2450 - accuracy: 0.9208 - mse: 0.0430 - val_loss: 0.3060 - val_accuracy: 0.8924 - val_mse: 0.0549\n",
            "Epoch 21/30\n",
            "77/77 [==============================] - ETA: 0s - loss: 0.2392 - accuracy: 0.9203 - mse: 0.0416\n",
            "Epoch 00021: val_accuracy did not improve from 0.92361\n",
            "77/77 [==============================] - 263s 3s/step - loss: 0.2392 - accuracy: 0.9203 - mse: 0.0416 - val_loss: 0.2902 - val_accuracy: 0.9097 - val_mse: 0.0494\n",
            "Epoch 22/30\n",
            "77/77 [==============================] - ETA: 0s - loss: 0.2486 - accuracy: 0.9130 - mse: 0.0439\n",
            "Epoch 00022: val_accuracy did not improve from 0.92361\n",
            "77/77 [==============================] - 265s 3s/step - loss: 0.2486 - accuracy: 0.9130 - mse: 0.0439 - val_loss: 0.2869 - val_accuracy: 0.8993 - val_mse: 0.0505\n",
            "Epoch 23/30\n",
            "77/77 [==============================] - ETA: 0s - loss: 0.2287 - accuracy: 0.9273 - mse: 0.0399\n",
            "Epoch 00023: val_accuracy did not improve from 0.92361\n",
            "77/77 [==============================] - 264s 3s/step - loss: 0.2287 - accuracy: 0.9273 - mse: 0.0399 - val_loss: 0.2651 - val_accuracy: 0.9201 - val_mse: 0.0448\n",
            "Epoch 24/30\n",
            "77/77 [==============================] - ETA: 0s - loss: 0.2400 - accuracy: 0.9150 - mse: 0.0427\n",
            "Epoch 00024: val_accuracy did not improve from 0.92361\n",
            "77/77 [==============================] - 264s 3s/step - loss: 0.2400 - accuracy: 0.9150 - mse: 0.0427 - val_loss: 0.2990 - val_accuracy: 0.8958 - val_mse: 0.0537\n",
            "Epoch 25/30\n",
            "77/77 [==============================] - ETA: 0s - loss: 0.2430 - accuracy: 0.9203 - mse: 0.0432\n",
            "Epoch 00025: val_accuracy did not improve from 0.92361\n",
            "77/77 [==============================] - 265s 3s/step - loss: 0.2430 - accuracy: 0.9203 - mse: 0.0432 - val_loss: 0.2902 - val_accuracy: 0.9028 - val_mse: 0.0484\n"
          ]
        },
        {
          "name": "stdout",
          "output_type": "stream",
          "text": [
            "Epoch 26/30\n",
            "77/77 [==============================] - ETA: 0s - loss: 0.2308 - accuracy: 0.9232 - mse: 0.0402\n",
            "Epoch 00026: val_accuracy did not improve from 0.92361\n",
            "77/77 [==============================] - 265s 3s/step - loss: 0.2308 - accuracy: 0.9232 - mse: 0.0402 - val_loss: 0.2857 - val_accuracy: 0.9201 - val_mse: 0.0497\n",
            "Epoch 27/30\n",
            "77/77 [==============================] - ETA: 0s - loss: 0.2383 - accuracy: 0.9220 - mse: 0.0420\n",
            "Epoch 00027: val_accuracy did not improve from 0.92361\n",
            "77/77 [==============================] - 264s 3s/step - loss: 0.2383 - accuracy: 0.9220 - mse: 0.0420 - val_loss: 0.2954 - val_accuracy: 0.9097 - val_mse: 0.0529\n",
            "Epoch 28/30\n",
            "77/77 [==============================] - ETA: 0s - loss: 0.2338 - accuracy: 0.9216 - mse: 0.0413\n",
            "Epoch 00028: val_accuracy did not improve from 0.92361\n",
            "77/77 [==============================] - 270s 4s/step - loss: 0.2338 - accuracy: 0.9216 - mse: 0.0413 - val_loss: 0.2920 - val_accuracy: 0.8819 - val_mse: 0.0528\n",
            "Epoch 29/30\n",
            "77/77 [==============================] - ETA: 0s - loss: 0.2252 - accuracy: 0.9269 - mse: 0.0392\n",
            "Epoch 00029: val_accuracy did not improve from 0.92361\n",
            "77/77 [==============================] - 274s 4s/step - loss: 0.2252 - accuracy: 0.9269 - mse: 0.0392 - val_loss: 0.2364 - val_accuracy: 0.9132 - val_mse: 0.0418\n",
            "Epoch 30/30\n",
            "77/77 [==============================] - ETA: 0s - loss: 0.2270 - accuracy: 0.9224 - mse: 0.0400\n",
            "Epoch 00030: val_accuracy did not improve from 0.92361\n",
            "77/77 [==============================] - 269s 3s/step - loss: 0.2270 - accuracy: 0.9224 - mse: 0.0400 - val_loss: 0.2478 - val_accuracy: 0.9167 - val_mse: 0.0445\n"
          ]
        }
      ],
      "source": [
        "# 100 epochs for Resnet50 model\n",
        "from tensorflow.keras.callbacks import ModelCheckpoint, EarlyStopping, ReduceLROnPlateau, CSVLogger\n",
        "\n",
        "#checkpointing\n",
        "#checkpoint_path = \"/content/drive/MyDrive/cp-0021.ckpt.data-00000-of-00001\"\n",
        "#checkpoint_path = \"C:/Users/DHANVANTH/SAMSUNG/Resnet/cp-0021.ckpt.data-00000-of-00001\"\n",
        "checkpoint_path = \"G:/TARP/Resnet/cp-0021.ckpt.data-00000-of-00001\"\n",
        "checkpoint_dir = os.path.dirname(checkpoint_path)\n",
        "\n",
        "#Create a callback that saves the model's weights\n",
        "cp_callback = tensorflow.keras.callbacks.ModelCheckpoint(monitor = 'val_accuracy',\n",
        "   filepath=checkpoint_path, \n",
        "    verbose=1,\n",
        "    save_weights_only=True,\n",
        "    #save_freq=5*batch_size,\n",
        "     save_best_only = True,                                                    \n",
        "      mode='max')\n",
        "\n",
        "\n",
        "#Reduce learning rate when a metric has stopped improving.\n",
        "# Models often benefit \n",
        "#from reducing the learning rate by a factor of 2-10\n",
        "reduce_lr = ReduceLROnPlateau(monitor='val_accuracy', \n",
        "                              factor=0.2, patience=2, min_lr=0.00001)\n",
        "\n",
        "\n",
        "\n",
        "# Save the weights using the `checkpoint_path` format\n",
        "model.save_weights(checkpoint_path.format(epoch=0))\n",
        "\n",
        "# Train the model with the new callback\n",
        "model_history = model.fit(train_generator, epochs = 30,callbacks=[cp_callback, reduce_lr],\n",
        "                          validation_data=valid_generator,\n",
        "    validation_steps=nb_validation_samples // batch_size)\n",
        "           # Pass callback to training"
      ]
    },
    {
      "cell_type": "code",
      "execution_count": null,
      "metadata": {
        "id": "2JLjbr6hB-SM",
        "outputId": "d3265d38-a54d-48b8-d19f-8b68973448a8"
      },
      "outputs": [
        {
          "data": {
            "image/png": "[encoded data removed]",
            "text/plain": [
              "<Figure size 1000x500 with 2 Axes>"
            ]
          },
          "metadata": {},
          "output_type": "display_data"
        },
        {
          "data": {
            "text/plain": [
              "<Figure size 640x480 with 0 Axes>"
            ]
          },
          "metadata": {},
          "output_type": "display_data"
        }
      ],
      "source": [
        "def plot_accuracy_loss(history):\n",
        "    \n",
        "    fig = plt.figure(figsize=(10,5))\n",
        "\n",
        "    plt.subplot(221)\n",
        "    #plt.plot(history.history['accuracy'],'bo--', label = \"train_acc\")\n",
        "    plt.plot(history.history['accuracy'],marker = ',',ms = 10, label = \"train_acc\")\n",
        "    plt.plot(history.history['val_accuracy'], marker = ',', label = \"val_acc\")\n",
        "    plt.title(\"(train_acc & val_acc) vs epoch\")\n",
        "    plt.ylabel(\"accuracy\")\n",
        "    plt.xlabel(\"epochs\")\n",
        "    plt.legend()\n",
        "\n",
        "    plt.subplot(222)\n",
        "    plt.plot(history.history['loss'],marker= ',', label = \"train_loss\")\n",
        "    plt.plot(history.history['val_loss'], marker=',' , label = \"val_loss\")\n",
        "    plt.title(\"(train_loss & val_loss) vs epoch\")\n",
        "    plt.ylabel(\"loss\")\n",
        "    plt.xlabel(\"epochs\")\n",
        "\n",
        "    plt.legend()\n",
        "    f = plt.figure()\n",
        "    plt.show()\n",
        "  \n",
        "\n",
        "\n",
        "plot_accuracy_loss(model_history)\n",
        "f = plt.figure()\n",
        "#f.savefig('C:/Users/DHANVANTH/SAMSUNG/resnet_50_epoch_vs_acc', bbox_inches='tight', dpi=600)"
      ]
    },
    {
      "cell_type": "code",
      "execution_count": null,
      "metadata": {
        "id": "12B5BlJQB-SM"
      },
      "outputs": [],
      "source": [
        "#model_1 = tensorflow.keras.models.load_model('RESNET_epoch_100.h5')"
      ]
    },
    {
      "cell_type": "code",
      "execution_count": null,
      "metadata": {
        "id": "y6dj7ILfHTCS",
        "outputId": "31d58995-d1a8-4dd7-9d68-fde877405d3c"
      },
      "outputs": [
        {
          "data": {
            "image/png": "[encoded data removed]",
            "text/plain": [
              "<Figure size 640x480 with 2 Axes>"
            ]
          },
          "metadata": {},
          "output_type": "display_data"
        },
        {
          "name": "stdout",
          "output_type": "stream",
          "text": [
            "test accuracy: 92.18241042345277\n"
          ]
        }
      ],
      "source": [
        "#to plot confusion matrix for 100 epochs\n",
        "import pandas as pd\n",
        "import seaborn as sn\n",
        "import tensorflow as tf\n",
        "\n",
        "#model = tf.keras.models.load_model(\"Reflection_dataset\\Saved_Model\\Mobilenet_reflection.h5\")\n",
        "#model = model_1\n",
        "filenames = test_generator.filenames\n",
        "nb_samples = len(test_generator)\n",
        "y_prob=[]\n",
        "y_act=[]\n",
        "test_generator.reset()\n",
        "for _ in range(nb_samples):\n",
        "  X_test,Y_test = test_generator.next()\n",
        "  y_prob.append(model.predict(X_test))\n",
        "  y_act.append(Y_test)\n",
        "\n",
        "predicted_class = [list(train_generator.class_indices.keys())[i.argmax()]for i in y_prob]\n",
        "actual_class = [list(train_generator.class_indices.keys())[i.argmax()]for i in y_act]\n",
        "\n",
        "out_df = pd.DataFrame(np.vstack([predicted_class,actual_class]).T,columns = ['predicted_class','actual_class'])\n",
        "confusion_matrix = pd.crosstab(out_df['actual_class'],out_df['predicted_class'], rownames=['Actual'], colnames=['Predicted'])\n",
        "sn.heatmap(confusion_matrix,cmap=\"YlGnBu\", annot = True,fmt='d')\n",
        "plt.show()\n",
        "print('test accuracy: {}'.format((np.diagonal(confusion_matrix).sum()/confusion_matrix.sum().sum()*100)))"
      ]
    },
    {
      "cell_type": "code",
      "execution_count": null,
      "metadata": {
        "id": "IHsplgspB-SN",
        "outputId": "ac653e11-3752-43bf-ef66-8a697a815284"
      },
      "outputs": [
        {
          "data": {
            "text/plain": [
              "['Aug_overvol', 'aug_normal', 'non_overload_vehicles']"
            ]
          },
          "execution_count": 16,
          "metadata": {},
          "output_type": "execute_result"
        }
      ],
      "source": [
        "target = []\n",
        "for x in train_generator.class_indices.keys():\n",
        "  target.append(x)\n",
        "\n",
        "target"
      ]
    },
    {
      "cell_type": "code",
      "execution_count": null,
      "metadata": {
        "id": "SYPLSH9RB-SN",
        "outputId": "b0317cbe-c523-429a-e471-880f5599bc53"
      },
      "outputs": [
        {
          "name": "stdout",
          "output_type": "stream",
          "text": [
            "ROC AUC score: 0.9415939389975262\n"
          ]
        },
        {
          "data": {
            "image/png": "[encoded data removed]",
            "text/plain": [
              "<Figure size 1200x800 with 1 Axes>"
            ]
          },
          "metadata": {},
          "output_type": "display_data"
        }
      ],
      "source": [
        "import matplotlib.pyplot as plt \n",
        "from sklearn.preprocessing import LabelBinarizer\n",
        "from sklearn.metrics import roc_curve, auc, roc_auc_score\n",
        "\n",
        "\n",
        "#target= ['airplane', 'automobile', 'bird', 'cat', 'deer',\n",
        "   #       'dog', 'frog', 'horse', 'ship', 'truck']\n",
        "\n",
        "# set plot figure size\n",
        "fig, c_ax = plt.subplots(1,1, figsize = (12, 8))\n",
        "\n",
        "# function for scoring roc auc score for multi-class\n",
        "def multiclass_roc_auc_score(y_test, ypred, average=\"weighted\"):\n",
        "    lb = LabelBinarizer()\n",
        "    lb.fit(y_test)\n",
        "    y_test = lb.transform(y_test)\n",
        "    ypred = lb.transform(ypred)\n",
        "\n",
        "    for (idx, c_label) in enumerate(target):\n",
        "        fpr, tpr, thresholds = roc_curve(y_test[:,idx].astype(int), ypred[:,idx])\n",
        "        c_ax.plot(fpr, tpr, label = '%s (AUC:%0.2f)'  % (c_label, auc(fpr, tpr)))\n",
        "    c_ax.plot(fpr, fpr, 'b-', label = 'Random Guessing')\n",
        "    return roc_auc_score(y_test, ypred, average=average)\n",
        "\n",
        "\n",
        "print('ROC AUC score:', multiclass_roc_auc_score(predicted_class, actual_class))\n",
        "\n",
        "c_ax.legend()\n",
        "c_ax.set_xlabel('False Positive Rate')\n",
        "c_ax.set_ylabel('True Positive Rate')\n",
        "plt.show()"
      ]
    },
    {
      "cell_type": "markdown",
      "metadata": {
        "id": "8cN2h-DRHBYD"
      },
      "source": [
        ""
      ]
    },
    {
      "cell_type": "code",
      "execution_count": null,
      "metadata": {
        "id": "oWrwf-DVB-SN"
      },
      "outputs": [],
      "source": [
        "#for image augmentation "
      ]
    },
    {
      "cell_type": "code",
      "execution_count": null,
      "metadata": {
        "id": "_BfKEWwbB-SO"
      },
      "outputs": [],
      "source": [
        "import os\n",
        "import cv2\n",
        "import numpy as np\n",
        "from skimage import io \n",
        "from skimage.transform import rotate, AffineTransform, warp\n",
        "import matplotlib.pyplot as plt\n",
        "import random\n",
        "from skimage import img_as_ubyte\n",
        "import os\n",
        "from skimage.util import random_noise"
      ]
    },
    {
      "cell_type": "code",
      "execution_count": null,
      "metadata": {
        "id": "6zGfErenB-SO"
      },
      "outputs": [],
      "source": [
        "\n",
        "#Lets define functions for each operation\n",
        "def anticlockwise_rotation(image):\n",
        "    angle= random.randint(0,180)\n",
        "    return rotate(image, angle)\n",
        "\n",
        "def clockwise_rotation(image):\n",
        "    angle= random.randint(0,180)\n",
        "    return rotate(image, -angle)\n",
        "\n",
        "def h_flip(image):\n",
        "    return  np.fliplr(image)\n",
        "\n",
        "def v_flip(image):\n",
        "    return np.flipud(image)\n",
        "\n",
        "def add_noise(image):\n",
        "    return random_noise(image)\n",
        "\n",
        "def blur_image(image):\n",
        "    return cv2.GaussianBlur(img, (9,9),0)\n",
        "\n",
        "#I would not recommend warp_shifting, because it distorts image, but can be used in many use case like \n",
        "#classifying blur and non-blur images\n",
        "def warp_shift(image): \n",
        "    transform = AffineTransform(translation=(0,40))  #chose x,y values according to your convinience\n",
        "    warp_image = warp(image, transform, mode=\"wrap\")\n",
        "    return warp_image"
      ]
    },
    {
      "cell_type": "code",
      "execution_count": null,
      "metadata": {
        "id": "PsIb9-zcB-SP"
      },
      "outputs": [],
      "source": [
        "\n",
        "transformations = {#'rotate anticlockwise': anticlockwise_rotation,\n",
        "                  #    'rotate clockwise': clockwise_rotation,\n",
        "                      'horizontal flip': h_flip, \n",
        "                      'vertical flip': v_flip,\n",
        "                   'warp shift': warp_shift,\n",
        "                   'adding noise': add_noise,\n",
        "                  'blurring image':blur_image\n",
        "                 }                #use dictionary to store names of functions \n",
        "\n",
        "images_path=\"C:/Users/DHANVANTH/SAMSUNG/z\" #path to original images\n",
        "augmented_path=\"C:/Users/DHANVANTH/SAMSUNG/y\" # path to store aumented images\n",
        "images=[] # to store paths of images from folder\n",
        "\n",
        "for im in os.listdir(images_path):  # read image name from folder and append its path into \"images\" array     \n",
        "    images.append(os.path.join(images_path,im))\n",
        "\n",
        "images_to_generate=70\n",
        "i=1                        # variable to iterate till images_to_generate\n",
        "\n",
        "while i<=images_to_generate:    \n",
        "    image=random.choice(images)\n",
        "    original_image = io.imread(image)\n",
        "    transformed_image=None\n",
        "    print(i)\n",
        "    n = 0       #variable to iterate till number of transformation to apply\n",
        "    transformation_count = random.randint(1, len(transformations)) #choose random number of transformation to apply on the image\n",
        "    \n",
        "    while n <= transformation_count:\n",
        "        key = random.choice(list(transformations)) #randomly choosing method to call\n",
        "        transformed_image = transformations[key](original_image)\n",
        "        n = n + 1\n",
        "        \n",
        "    new_image_path= \"%s/augmented_image_%s.jpg\" %(augmented_path, i+2100)\n",
        "    transformed_image = img_as_ubyte(transformed_image)  #Convert an image to unsigned byte format, with values in [0, 255].\n",
        "    transformed_image=cv2.cvtColor(transformed_image, cv2.COLOR_BGR2RGB) #convert image to RGB before saving it\n",
        "    cv2.imwrite(new_image_path, transformed_image) # save transformed image to path\n",
        "    i =i+1\n",
        "#to generate more images, put above 3 statement inside while n<... loop"
      ]
    },
    {
      "cell_type": "code",
      "execution_count": null,
      "metadata": {
        "id": "c17CezSMB-SP"
      },
      "outputs": [],
      "source": [
        "#to find the number of images in a file"
      ]
    },
    {
      "cell_type": "code",
      "execution_count": null,
      "metadata": {
        "id": "_46c7W-NB-SQ"
      },
      "outputs": [],
      "source": [
        ""
      ]
    },
    {
      "cell_type": "code",
      "execution_count": null,
      "metadata": {
        "id": "pI6WZaHbB-SQ"
      },
      "outputs": [],
      "source": [
        ""
      ]
    }
  ],
  "metadata": {
    "accelerator": "GPU",
    "colab": {
      "collapsed_sections": [],
      "name": "mobilenetv2_tarp.ipynb",
      "provenance": []
    },
    "kernelspec": {
      "display_name": "Python 3",
      "language": "python",
      "name": "python3"
    },
    "language_info": {
      "codemirror_mode": {
        "name": "ipython",
        "version": 3
      },
      "file_extension": ".py",
      "mimetype": "text/x-python",
      "name": "python",
      "nbconvert_exporter": "python",
      "pygments_lexer": "ipython3",
      "version": "3.8.11"
    }
  },
  "nbformat": 4,
  "nbformat_minor": 0
}